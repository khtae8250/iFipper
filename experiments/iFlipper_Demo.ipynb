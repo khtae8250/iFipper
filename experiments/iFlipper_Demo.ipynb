{
 "cells": [
  {
   "cell_type": "code",
   "execution_count": 1,
   "metadata": {},
   "outputs": [],
   "source": [
    "import warnings\n",
    "warnings.filterwarnings('ignore')\n",
    "\n",
    "import sys\n",
    "import math\n",
    "import numpy as np\n",
    "import copy\n",
    "import time\n",
    "import pickle\n",
    "from random import seed, shuffle, sample\n",
    "\n",
    "from sklearn.preprocessing import StandardScaler\n",
    "from aif360.datasets import AdultDataset, CompasDataset, GermanDataset, BankDataset, StandardDataset\n",
    "\n",
    "import matplotlib\n",
    "import matplotlib.pyplot as plt\n",
    "import os\n",
    "\n",
    "matplotlib.rcParams['pdf.fonttype'] = 42\n",
    "matplotlib.rcParams['ps.fonttype'] = 42\n",
    "\n",
    "%matplotlib inline"
   ]
  },
  {
   "cell_type": "code",
   "execution_count": 2,
   "metadata": {},
   "outputs": [],
   "source": [
    "sys.path.append('../baselines/iFair/')\n",
    "sys.path.append('../baselines/LFR/')\n",
    "sys.path.append('../baselines/PFR/')\n",
    "sys.path.append('../iFlipper/')\n",
    "\n",
    "from iflipper import iFlipper\n",
    "from aif360.algorithms.preprocessing import LFR\n",
    "from iFair import iFair\n",
    "from PFR import PFR, similarity_pfr, estimate_dim\n",
    "\n",
    "from cplex_solver import CPLEX_Solver\n",
    "from greedy import Greedy\n",
    "from gradient import Gradient\n",
    "\n",
    "from utils import measure_violations, similarity_knn, similarity_threshold\n",
    "from model import Model"
   ]
  },
  {
   "cell_type": "markdown",
   "metadata": {},
   "source": [
    "# Load fairness dataset from AIF360 and define variables\n",
    "### 1. Dataset = COMPAS, AdultCensus, Credit\n",
    "### 2. Similarity matrix = knn, threshold\n",
    "### 3. ML model = LogisticRegression, RandomForest, NeuralNetwork"
   ]
  },
  {
   "cell_type": "code",
   "execution_count": 3,
   "metadata": {},
   "outputs": [],
   "source": [
    "dataset_type = \"COMPAS\" # AdultCensus, Credit\n",
    "similarity_matrix = \"knn\" # threshold\n",
    "model_type = \"LogisticRegression\" # RandomForest, NeuralNetwork"
   ]
  },
  {
   "cell_type": "code",
   "execution_count": 4,
   "metadata": {},
   "outputs": [
    {
     "name": "stderr",
     "output_type": "stream",
     "text": [
      "WARNING:root:Missing Data: 5 rows removed from CompasDataset.\n"
     ]
    }
   ],
   "source": [
    "if dataset_type == \"COMPAS\":\n",
    "    dataset = CompasDataset(label_name='two_year_recid', favorable_classes=[0], \n",
    "                            protected_attribute_names=['sex'], privileged_classes=[['Female']], \n",
    "                            categorical_features=['age_cat', 'c_charge_degree', 'c_charge_desc', 'race'], \n",
    "                            features_to_keep=['sex', 'age', 'age_cat', 'race', 'juv_fel_count', 'juv_misd_count', 'juv_other_count', 'priors_count', 'c_charge_degree', 'c_charge_desc', 'two_year_recid'], \n",
    "                            features_to_drop=[], na_values=[])\n",
    "    protected = \"sex\"\n",
    "    num_train, num_test, num_val = 0.6, 0.3, 0.1\n",
    "    k, threshold = 20, 3\n",
    "    num_plot = [1, 0.8, 0.6, 0.4, 0.2, 0.1, 0.05, 0.01, 0.001, 0]\n",
    "    \n",
    "elif dataset_type == \"AdultCensus\":\n",
    "    dataset = AdultDataset(label_name='income-per-year', favorable_classes=['>50K', '>50K.'], \n",
    "                    protected_attribute_names=['sex'], privileged_classes=[['Male']], \n",
    "                    categorical_features=['race', 'workclass', 'education', 'marital-status', 'occupation', 'relationship', 'native-country'], \n",
    "                    features_to_keep=[], features_to_drop=['fnlwgt'], na_values=['?'])\n",
    "    protected = \"sex\"\n",
    "    num_train, num_test, num_val = 0.6, 0.3, 0.1\n",
    "    k, threshold = 20, 3\n",
    "    num_plot = [1, 0.8, 0.6, 0.4, 0.2, 0.1, 0.05, 0.01, 0.005, 0.001, 0]\n",
    "    \n",
    "elif dataset_type == \"Credit\":\n",
    "    def label_processing(df):\n",
    "        credit_map = {1.0 : 1.0, 2.0 : 0.0}\n",
    "        status_map = {'A91': 'male', 'A93': 'male', 'A94': 'male',\n",
    "                      'A92': 'female', 'A95': 'female'}\n",
    "        df['credit'] = df['credit'].replace(credit_map)\n",
    "        df['sex'] = df['personal_status'].replace(status_map)    \n",
    "        return df\n",
    "    \n",
    "    dataset = GermanDataset(custom_preprocessing = label_processing, \n",
    "                            metadata={'label_maps': [{1.0: 'Good Credit', 0.0: 'Bad Credit'}], 'protected_attribute_maps': [{1.0: 'Male', 0.0: 'Female'}, {1.0: 'Old', 0.0: 'Young'}]})\n",
    "    protected = \"age\"\n",
    "    num_train, num_test, num_val = 0.7, 0.2, 0.1\n",
    "    k, threshold = 20, 7\n",
    "    num_plot = [1, 0.9, 0.8, 0.7, 0.6, 0.5, 0.4, 0.3, 0.2, 0.1, 0.05, 0.01]\n",
    "\n",
    "privileged_groups = [{protected: 1}]\n",
    "unprivileged_groups = [{protected: 0}]"
   ]
  },
  {
   "cell_type": "code",
   "execution_count": 5,
   "metadata": {},
   "outputs": [
    {
     "name": "stdout",
     "output_type": "stream",
     "text": [
      "Dataset: COMPAS\n",
      "Number of training data: 3700, Number of test data: 1850, Number of validation data: 617\n",
      "\n"
     ]
    }
   ],
   "source": [
    "scaler = StandardScaler()\n",
    "train, test, val = dataset.split([num_train, num_train+num_test], shuffle=True, seed=0)\n",
    "\n",
    "train.features = scaler.fit_transform(train.features)\n",
    "test.features = scaler.fit_transform(test.features)\n",
    "val.features = scaler.fit_transform(val.features)\n",
    "index = train.feature_names.index(protected)\n",
    "\n",
    "# remove sensitive features\n",
    "x_train = np.delete(train.features, index, axis=1)\n",
    "x_test = np.delete(test.features, index, axis=1)\n",
    "x_val = np.delete(val.features, index, axis=1)\n",
    "\n",
    "y_train = train.labels.ravel()\n",
    "y_test = test.labels.ravel()\n",
    "y_val = val.labels.ravel()\n",
    "\n",
    "# keep sensitive column for PFR\n",
    "train_sensitive = np.reshape(train.features[:, index], (-1, 1))\n",
    "test_sensitive = np.reshape(test.features[:, index], (-1, 1))\n",
    "val_sensitive = np.reshape(val.features[:, index], (-1, 1))\n",
    "\n",
    "# For iFair\n",
    "x_train_with_sensitive = np.concatenate((x_train, train_sensitive), axis = 1)\n",
    "x_test_with_sensitive = np.concatenate((x_test, test_sensitive), axis = 1)\n",
    "x_val_with_sensitive = np.concatenate((x_val, val_sensitive), axis = 1)\n",
    "\n",
    "print(\"Dataset: %s\" % dataset_type)\n",
    "print(\"Number of training data: %d, Number of test data: %d, Number of validation data: %d\\n\" % (x_train.shape[0], x_test.shape[0], x_val.shape[0]))"
   ]
  },
  {
   "cell_type": "markdown",
   "metadata": {},
   "source": [
    "# Obtain similarity matrix"
   ]
  },
  {
   "cell_type": "code",
   "execution_count": 6,
   "metadata": {},
   "outputs": [],
   "source": [
    "if similarity_matrix == \"knn\":\n",
    "    w_train, edge_train = similarity_knn(x_train, k)\n",
    "    w_test, edge_test = similarity_knn(x_test, k)\n",
    "    w_val, edge_val = similarity_knn(x_val, k)\n",
    "    \n",
    "elif similarity_matrix == \"threshold\":\n",
    "    w_train, edge_train = similarity_threshold(x_train, threshold)\n",
    "    w_test, edge_test = similarity_threshold(x_test, threshold)\n",
    "    w_val, edge_val = similarity_threshold(x_val, threshold)"
   ]
  },
  {
   "cell_type": "markdown",
   "metadata": {},
   "source": [
    "# Original result (without any pre-processing)"
   ]
  },
  {
   "cell_type": "code",
   "execution_count": 7,
   "metadata": {},
   "outputs": [
    {
     "name": "stdout",
     "output_type": "stream",
     "text": [
      "Test Accuracy: 0.68811\n",
      "Test Consistency Score: 0.72307\n"
     ]
    }
   ],
   "source": [
    "test_accuracy, test_consistency_score, runtime = dict(), dict(), dict()\n",
    "\n",
    "model = Model(model_type, x_train, y_train, w_train, edge_train, x_test, y_test, w_test, edge_test, x_val, y_val)\n",
    "train_performance, test_performance = model.train()\n",
    "\n",
    "test_accuracy[\"Original\"], test_consistency_score[\"Original\"] = [test_performance[0]], [test_performance[1]]\n",
    "print(f\"Test Accuracy: {test_performance[0]:.5f}\")\n",
    "print(f\"Test Consistency Score: {test_performance[1]:.5f}\")"
   ]
  },
  {
   "cell_type": "markdown",
   "metadata": {},
   "source": [
    "# iFlipper on different target violation limits (m)"
   ]
  },
  {
   "cell_type": "code",
   "execution_count": 8,
   "metadata": {},
   "outputs": [
    {
     "name": "stdout",
     "output_type": "stream",
     "text": [
      "Initial number of violations: 22327\n",
      "============================\n",
      "Target number of violations: 22327\n",
      "Actual number of violations: 22327\n",
      "Number of flips: 0\n",
      "Test Accuracy: 0.68811\n",
      "Test Consistency Score: 0.72307\n",
      "Runtime (sec): 0.00049\n",
      "============================\n",
      "Target number of violations: 17861\n",
      "Actual number of violations: 17854\n",
      "Number of flips: 192\n",
      "Test Accuracy: 0.68378\n",
      "Test Consistency Score: 0.75177\n",
      "Runtime (sec): 6.49843\n",
      "============================\n",
      "Target number of violations: 13396\n",
      "Actual number of violations: 13390\n",
      "Number of flips: 445\n",
      "Test Accuracy: 0.67405\n",
      "Test Consistency Score: 0.78291\n",
      "Runtime (sec): 6.19294\n",
      "============================\n",
      "Target number of violations: 8930\n",
      "Actual number of violations: 8916\n",
      "Number of flips: 734\n",
      "Test Accuracy: 0.65405\n",
      "Test Consistency Score: 0.80060\n",
      "Runtime (sec): 7.06196\n",
      "============================\n",
      "Target number of violations: 4465\n",
      "Actual number of violations: 4453\n",
      "Number of flips: 1069\n",
      "Test Accuracy: 0.63730\n",
      "Test Consistency Score: 0.83435\n",
      "Runtime (sec): 7.66725\n",
      "============================\n",
      "Target number of violations: 2232\n",
      "Actual number of violations: 2226\n",
      "Number of flips: 1274\n",
      "Test Accuracy: 0.62216\n",
      "Test Consistency Score: 0.86270\n",
      "Runtime (sec): 6.89275\n",
      "============================\n",
      "Target number of violations: 1116\n",
      "Actual number of violations: 1110\n",
      "Number of flips: 1431\n",
      "Test Accuracy: 0.59730\n",
      "Test Consistency Score: 0.93324\n",
      "Runtime (sec): 9.04517\n",
      "============================\n",
      "Target number of violations: 223\n",
      "Actual number of violations: 215\n",
      "Number of flips: 1554\n",
      "Test Accuracy: 0.56378\n",
      "Test Consistency Score: 0.96118\n",
      "Runtime (sec): 6.21635\n",
      "============================\n",
      "Target number of violations: 22\n",
      "Actual number of violations: 20\n",
      "Number of flips: 1600\n",
      "Test Accuracy: 0.55946\n",
      "Test Consistency Score: 0.98204\n",
      "Runtime (sec): 5.80186\n",
      "============================\n",
      "Target number of violations: 0\n",
      "Actual number of violations: 0\n",
      "Number of flips: 1643\n",
      "Test Accuracy: 0.54811\n",
      "Test Consistency Score: 0.98613\n",
      "Runtime (sec): 1.95329\n"
     ]
    }
   ],
   "source": [
    "method = \"iFlipper\"\n",
    "test_accuracy[method], test_consistency_score[method], runtime[method] = [], [], []\n",
    "\n",
    "init_violations = measure_violations(y_train, edge_train)\n",
    "print(f\"Initial number of violations: {init_violations}\")\n",
    "\n",
    "for i in num_plot:\n",
    "    m = int(init_violations * i)\n",
    "        \n",
    "    start = time.time()\n",
    "    IFLIP = iFlipper(y_train, w_train, edge_train)\n",
    "    flipped_label = IFLIP.transform(m)\n",
    "    elapsed_time = time.time() - start\n",
    "\n",
    "    model = Model(model_type, x_train, flipped_label, w_train, edge_train, x_test, y_test, w_test, edge_test, x_val, y_val)\n",
    "    train_performance, test_performance = model.train()\n",
    "\n",
    "    test_accuracy[method].append(test_performance[0])\n",
    "    test_consistency_score[method].append(test_performance[1])\n",
    "    runtime[method].append(elapsed_time)\n",
    "    \n",
    "    print(\"============================\")\n",
    "    print(f\"Target number of violations: {m}\")\n",
    "    print(f\"Actual number of violations: {measure_violations(flipped_label, edge_train)}\")\n",
    "    print(f\"Number of flips: {np.sum(y_train != flipped_label)}\")\n",
    "    print(f\"Test Accuracy: {test_performance[0]:.5f}\") \n",
    "    print(f\"Test Consistency Score: {test_performance[1]:.5f}\")\n",
    "    print(f\"Runtime (sec): {elapsed_time:.5f}\")"
   ]
  },
  {
   "cell_type": "markdown",
   "metadata": {},
   "source": [
    "# Accuracy-fairness trade-off for iFlipper"
   ]
  },
  {
   "cell_type": "code",
   "execution_count": 9,
   "metadata": {},
   "outputs": [
    {
     "data": {
      "image/png": "[encoded data removed]",
      "text/plain": [
       "<Figure size 1152x720 with 1 Axes>"
      ]
     },
     "metadata": {
      "needs_background": "light"
     },
     "output_type": "display_data"
    }
   ],
   "source": [
    "methods = [\"iFlipper\", \"Original\"]\n",
    "shapes = [\"D\", \"X\"]\n",
    "marker_size = 700\n",
    "\n",
    "plt.figure(figsize=(16, 10))\n",
    "for i in range(len(methods)):\n",
    "    if methods[i] == \"Original\":\n",
    "        plt.scatter(test_accuracy[methods[i]], test_consistency_score[methods[i]], label=methods[i], s=marker_size+100, marker=shapes[i], edgecolors=\"black\", linewidth=2, color=\"white\")\n",
    "    else:\n",
    "        plt.scatter(test_accuracy[methods[i]], test_consistency_score[methods[i]], label=methods[i], s=marker_size, marker=shapes[i], color=\"tab:red\") \n",
    "        \n",
    "plt.tick_params(labelsize=35)\n",
    "plt.xlabel(\"Test Accuracy\", fontsize=45)\n",
    "plt.ylabel(\"Test Consistency Score\", fontsize=45)\n",
    "plt.legend(prop={'size':35})\n",
    "\n",
    "plt.tight_layout()\n",
    "plt.show()"
   ]
  },
  {
   "cell_type": "code",
   "execution_count": null,
   "metadata": {},
   "outputs": [],
   "source": []
  }
 ],
 "metadata": {
  "interpreter": {
   "hash": "584f6a1b876c1cea0cbea06bd7b09bda408a5edb0613a99ac34a44c0f1af65a2"
  },
  "kernelspec": {
   "display_name": "Python (tf_gpu)",
   "language": "python",
   "name": "python3"
  },
  "language_info": {
   "codemirror_mode": {
    "name": "ipython",
    "version": 3
   },
   "file_extension": ".py",
   "mimetype": "text/x-python",
   "name": "python",
   "nbconvert_exporter": "python",
   "pygments_lexer": "ipython3",
   "version": "3.8.11"
  }
 },
 "nbformat": 4,
 "nbformat_minor": 2
}
